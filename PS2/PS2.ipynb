{
 "cells": [
  {
   "cell_type": "markdown",
   "metadata": {},
   "source": [
    "# Problem Set 2 CS174\n",
    "---\n",
    "The following problem set will focus on the lessons on Numpy and advanced Python functions. Answer the following guide questions by writing functions or code in cells that accomplish the requirements.\n",
    "\n",
    "1. Create a function that takes in 3 parameters (integer n, integer a, integer b), and generates an nxn numpy matrix with random values from the range a to b inclusive. **2 pts.**\n",
    "\n",
    "2. Present a count plot of the top 20 occurring words in **data/networks.txt**. Use the stopword file **data/stop.txt** to filter out the stopwords **2 pts.**\n",
    "\n",
    "3. Using **data/ateneo.txt** and **data/tl-en.txt**, convert the phrases into straight english phrases. Leave words with no translation be. **6 pts.**\n",
    "\n",
    "4. Using **data/tl-en.txt**, create a one-to-one English to Filipino translation of your favorite English song. Develop functions to handle pluralities, and multiple entry results. Discuss your code and please put at least 1-liner docs for the functions. **10 pts.**\n",
    "       \n",
    "### Bonus:\n",
    "Repeat #4 but do a Filipino to English translation of your favorite Filipno song. Same specs apply. **5 pts.**"
   ]
  },
  {
   "cell_type": "markdown",
   "metadata": {},
   "source": [
    "Deadline **Feb 20 11:59PM**. Submission link to be posted in Moodle. \n",
    "Submit the .ipynb file only with name <SURNAME>_<ID NUMBER>.ipynb. \n",
    "    \n",
    "Sample: **\"BAUTISTA_110464.ipynb\"**"
   ]
  },
  {
   "cell_type": "code",
   "execution_count": 15,
   "metadata": {},
   "outputs": [],
   "source": [
    "import numpy as np\n",
    "\n",
    "def matrix_gen(n, a, b): \n",
    "    return np.random.randint(a,b+1,size = (n,n))"
   ]
  },
  {
   "cell_type": "code",
   "execution_count": 16,
   "metadata": {},
   "outputs": [],
   "source": [
    "#https://stackoverflow.com/questions/58526984/how-to-create-numpy-array-with-values-in-specific-range "
   ]
  },
  {
   "cell_type": "code",
   "execution_count": 17,
   "metadata": {},
   "outputs": [],
   "source": [
    "def word_counter(word_count, word_list): \n",
    "    for word in word_list: \n",
    "        if word not in word_count.keys(): \n",
    "            word_count[word]=1\n",
    "        else: \n",
    "            word_count[word] += 1\n",
    "    return word_count"
   ]
  },
  {
   "cell_type": "code",
   "execution_count": 18,
   "metadata": {},
   "outputs": [
    {
     "output_type": "execute_result",
     "data": {
      "text/plain": [
       "{'to': 55,\n",
       " 'network': 10,\n",
       " 'going': 7,\n",
       " 'file': 7,\n",
       " 'never': 6,\n",
       " 'time': 6,\n",
       " 'files': 6,\n",
       " 'also': 6,\n",
       " 'network.': 5,\n",
       " 'you': 5,\n",
       " 'networks,': 5,\n",
       " 'computers': 5,\n",
       " 'one': 5,\n",
       " 'system': 5,\n",
       " 'access': 5,\n",
       " 'saved': 5,\n",
       " 'costs': 4,\n",
       " 'however,': 4,\n",
       " 'companies': 4,\n",
       " 'using': 4}"
      ]
     },
     "metadata": {},
     "execution_count": 18
    }
   ],
   "source": [
    "from operator import itemgetter\n",
    "with open(\"networks.txt\",\"r\") as f: \n",
    "    networks_string = f.read()\n",
    "\n",
    "with open(\"stop.txt\",\"r\") as f: \n",
    "    stop_string = f.read()\n",
    "    \n",
    "networks_list = networks_string.lower().split()\n",
    "#tempnetworks_list = networks_list\n",
    "\n",
    "stop_list = [a.strip(\"\\\"',\") for a in stop_string.split(\"\\n\")]\n",
    "\n",
    "networks_list = [word for word in networks_list if word not in stop_list]\n",
    "\n",
    "networks_dict = dict()\n",
    "networks_dict = word_counter(networks_dict, networks_list)\n",
    "\n",
    "#https://www.geeksforgeeks.org/python-n-largest-values-in-dictionary/\n",
    "N = 20 \n",
    "networks_top20 = dict(sorted(networks_dict.items(), key = lambda x: x[1], reverse = True)[:N])\n",
    "networks_top20"
   ]
  },
  {
   "cell_type": "markdown",
   "metadata": {},
   "source": [
    "# PLOT NUM 2\n"
   ]
  },
  {
   "cell_type": "code",
   "execution_count": 19,
   "metadata": {},
   "outputs": [],
   "source": [
    "with open(\"ateneo.txt\", \"r\") as f: \n",
    "    ateneo_list = [phrase.strip('\"\"') for phrase in f.read().split(\"\\n\")]\n",
    "    \n",
    "with open(\"tl-en.txt\", \"r\", encoding = \"utf8\") as f: \n",
    "    tlen_list = f.read().split(\"\\n\")\n",
    "    \n",
    "tlen_dict = dict()\n",
    "\n",
    "for tlenpair in tlen_list: \n",
    "    tlenpair_list = tlenpair.split(\"\\t\")\n",
    "    tlen_dict[tlenpair_list[0]] = tlenpair_list[-1] #for some reason tlenpair_list[2] gives an error? :<\n",
    "\n"
   ]
  },
  {
   "cell_type": "code",
   "execution_count": 20,
   "metadata": {},
   "outputs": [],
   "source": [
    "punctuations = [\",\",\".\", \"?\"]\n",
    "\n",
    "def capitalize(s): \n",
    "    return s[0].upper() + s[1:]\n",
    "\n",
    "def isproper(s): \n",
    "    return s.capitalize() == s\n",
    "\n",
    "def haspunctuation(s): \n",
    "    return s[-1] in punctuations "
   ]
  },
  {
   "cell_type": "code",
   "execution_count": 63,
   "metadata": {},
   "outputs": [],
   "source": [
    "def tlen_translate_a(sentence): \n",
    "    words = sentence.split() \n",
    "    output = []\n",
    "    for word in words: \n",
    "        temp_word = punc = \"\"\n",
    "        if haspunctuation(word): \n",
    "            temp_word = word[:-1].lower()\n",
    "            punc = word[-1]\n",
    "        else: \n",
    "            temp_word = word.lower() \n",
    "        \n",
    "        translated_word = tlen_dict[temp_word] if temp_word in tlen_dict else temp_word\n",
    "        output.append((translated_word.capitalize() if isproper(word) else translated_word) + punc)\n",
    "        \n",
    "    return \" \".join(output)"
   ]
  },
  {
   "cell_type": "code",
   "execution_count": 64,
   "metadata": {},
   "outputs": [
    {
     "output_type": "stream",
     "name": "stdout",
     "text": [
      "Manong, para lang d'yan sa may side.\nManong, to only d'yan sa have side.\n----------\nMej hassle naman this rain.\nMej hassle naman this rain.\n----------\nAno, bro? Katip later? G?\nWhat, bro? Katip later? G?\n----------\nWait, I'm like gonna dinner lang with the fambam.\nWait, I'm like gonna dinner only with the fambam.\n----------\nWhich car am I gonna take today kaya?\nWhich car am I gonna take today so?\n----------\nDon't make tusok sa fishball muna, it's not lutong yet.\nDon't make stitch sa fishball first, it's not cuisine yet.\n----------\nKuya magkano po yung neon balls?\nBrother much po yung neon balls?\n----------\nPweds ka ba later?\nPweds ka ba later?\n----------\nUgh, there's no parking space pa. Eh, I'm late na nga.\nUgh, there's no parking space pa. Eh, I'm late na nga.\n----------\nIt's like, super intense talaga. As in grabe.\nIt's like, super intense really. As in extreme.\n----------\nI'll make paalam pa. You know naman my dad is strict, eh.\nI'll make goodbye pa. You know naman my dad is strict, eh.\n----------\nYou're, like, so tagal ha.\nYou're, like, so duration ha.\n----------\nMake it fast lang ha?\nMake it fast only ha?\n----------\nWhat's wrong with being conyo ba?\nWhat's wrong with being conyo ba?\n----------\n"
     ]
    }
   ],
   "source": [
    "for phrase in ateneo_list: \n",
    "    print(phrase)\n",
    "    print(tlen_translate_a(phrase))\n",
    "    print(\"-\"*10)"
   ]
  },
  {
   "cell_type": "code",
   "execution_count": 54,
   "metadata": {
    "tags": []
   },
   "outputs": [],
   "source": [
    "entl_dict = dict()\n",
    "\n",
    "for pair in tlen_dict.items(): \n",
    "    if pair[1] in entl_dict.keys(): \n",
    "        entl_dict[pair[1]].append(pair[0])\n",
    "    else: \n",
    "        entl_dict[pair[1]] = [pair[0]]"
   ]
  },
  {
   "cell_type": "code",
   "execution_count": 60,
   "metadata": {
    "tags": []
   },
   "outputs": [],
   "source": [
    "import requests as r\n",
    "from bs4 import BeautifulSoup\n",
    "page = r.get(\"https://genius.com/Post-malone-and-swae-lee-sunflower-lyrics\").text\n",
    "soup = BeautifulSoup(page)\n",
    "lyrics = soup.find(\"div\", {\"class\": \"lyrics\"}).get_text()"
   ]
  },
  {
   "cell_type": "code",
   "execution_count": 62,
   "metadata": {},
   "outputs": [
    {
     "output_type": "stream",
     "name": "stdout",
     "text": [
      "\n\n[Intro: Swae Lee]\nAyy, ayy, ayy, ayy (Ooh)\nOoh, ooh, ooh, ooh (Ooh)\nAyy, ayy\nOoh, ooh, ooh, ooh\n\n[Verse 1: Swae Lee]\nNeedless to say, I keep in check\nShe was a bad-bad, nevertheless (Yeah)\nCallin' it quits now, baby, I'm a wreck (Wreck)\nCrash at my place, baby, you're a wreck (Wreck)\nNeedless to say, I'm keeping in check\nShe was a bad-bad, nevertheless\nCallin' it quits now, baby, I'm a wreck\nCrash at my place, baby, you're a wreck\nThinkin' in a bad way, losin' your grip\nScreamin' at my face, baby, don't trip\nSomeone took a big L, don't know how that felt\nLookin' at you sideways, party on tilt\nOoh-ooh, some things you just can't refuse\nShe wanna ride me like a cruise and I'm not tryna lose\n\n[Chorus: Swae Lee]\nThen you're left in the dust, unless I stuck by ya\nYou're a sunflower, I think your love would be too much\nOr you'll be left in the dust, unless I stuck by ya\nYou're the sunflower, you're the sunflower\n\n[Verse 2: Post Malone]\nEvery time I'm leavin' on ya (Ooh)\nYou don't make it easy, no (No, no)\nWish I could be there for ya (Ooh)\nGive me a reason to, oh (Oh)\nEvery time I'm walkin' out (Oh)\nI can hear you tellin' me to turn around (Oh, oh)\nFightin' for my trust and you won't back down (No)\nEven if we gotta risk it all right now, oh (Now)\nI know you're scared of the unknown (Known)\nYou don't wanna be alone (Alone)\nI know I always come and go (And go)\nBut it's out of my control\n\n[Chorus: Post Malone]\nAnd you'll be left in the dust, unless I stuck by ya\nYou're the sunflower, I think your love would be too much\nOr you'll be left in the dust, unless I stuck by ya\nYou're the sunflower, you're the sunflower (Yeah)\n\n\n"
     ]
    }
   ],
   "source": [
    "print(lyrics)"
   ]
  },
  {
   "cell_type": "code",
   "execution_count": 94,
   "metadata": {},
   "outputs": [],
   "source": [
    "#https://pypi.org/project/inflect/\n",
    "import inflect\n",
    "p = inflect.engine()\n",
    "\n",
    "def entl_pluralities(word): \n",
    "    if p.compare(word, p.plural(word)) == \"s:p\": \n",
    "        trans = entl_dict[word][0]\n",
    "    else:\n",
    "        trans = \"mga \" + entl_dict[p.plural(word) if p.plural(word) in entl_dict else word][0]      \n",
    "    return trans"
   ]
  },
  {
   "cell_type": "code",
   "execution_count": 95,
   "metadata": {},
   "outputs": [],
   "source": [
    "def entl_translate(sentence): \n",
    "    words = sentence.split() \n",
    "    output = []\n",
    "    for word in words: \n",
    "        temp_word = punc = \"\"\n",
    "        if haspunctuation(word): \n",
    "            temp_word = word[:-1].lower()\n",
    "            punc = word[-1]\n",
    "        else: \n",
    "            temp_word = word.lower() \n",
    "        \n",
    "        translated_word = entl_pluralities(temp_word) if temp_word in entl_dict else temp_word\n",
    "        output.append((translated_word.capitalize() if isproper(word) else translated_word) + punc)\n",
    "        \n",
    "    return \" \".join(output)"
   ]
  },
  {
   "cell_type": "code",
   "execution_count": 96,
   "metadata": {},
   "outputs": [
    {
     "output_type": "stream",
     "name": "stdout",
     "text": [
      "\n\n[intro: Swae Lee]\nAyy, ayy, ayy, ayy (ooh)\nOoh, ooh, ooh, ooh (ooh)\nAyy, ayy\nOoh, ooh, ooh, ooh\n\n[verse 1: Swae Lee]\nNeedless para say, I panatilihin nasa check\nShe was a bad-bad, nevertheless (yeah)\nCallin' it quits now, baby, I'm a labi (wreck)\nCrash at my lugar, baby, you're a labi (wreck)\nNeedless para say, I'm pagpapanatiling nasa check\nShe was a bad-bad, nevertheless\nCallin' it quits now, baby, I'm a labi\nCrash at my lugar, baby, you're a labi\nThinkin' nasa a bad paraan, losin' mga iyong pagkakahawak\nScreamin' at my mukha, baby, don't biyahe\nSomeone took a malaki L, don't kilala paano yan naramdaman\nLookin' at mga ikaw sideways, partido noong tilt\nOoh-ooh, ilang things mga ikaw nalang can't refuse\nShe wanna ride me parang a paglalayag and I'm hindi tryna mawala\n\n[chorus: Swae Lee]\nPagkatapos you're natitira nasa ang alikabok, unless I stuck by ya\nYou're a sunflower, I tingin mga iyong love would magiging rin magkano\nOr you'll magiging natitira nasa ang alikabok, unless I stuck by ya\nYou're ang sunflower, you're ang sunflower\n\n[verse 2: Post Malone]\nTuwing oras I'm leavin' noong ya (ooh)\nMga ikaw don't gawing it madaling, walang (no, no)\nWish I could magiging there for ya (ooh)\nMagbigay me a dahilan para, oh (oh)\nTuwing oras I'm walkin' lumabas (oh)\nI maari marinig mga ikaw tellin' me para turn paligid (oh, oh)\nFightin' for my tiwala and mga ikaw won't bumalik down (no)\nKahit kung tayo gotta risk it all kanang now, oh (now)\nI kilala you're scared of ang unknown (known)\nMga ikaw don't wanna magiging alone (alone)\nI kilala I mga laging dumating and pumunta (and go)\nNgunit it's lumabas of my kontrol\n\n[chorus: Post Malone]\nAnd you'll magiging natitira nasa ang alikabok, unless I stuck by ya\nYou're ang sunflower, I tingin mga iyong love would magiging rin magkano\nOr you'll magiging natitira nasa ang alikabok, unless I stuck by ya\nYou're ang sunflower, you're ang sunflower (yeah)\n\n\n"
     ]
    }
   ],
   "source": [
    "for phrase in lyrics.split(\"\\n\"): \n",
    "    print(entl_translate(phrase))"
   ]
  },
  {
   "cell_type": "code",
   "execution_count": 119,
   "metadata": {},
   "outputs": [
    {
     "output_type": "stream",
     "name": "stdout",
     "text": [
      "\n\nI\nAko the visible\nAko the nasisisi\nAko the always have fault\n\nAwakening sa morning\nSermon the breakfast\nBefore attended sa eskwela\n\nOnce nangangatwiran\nAko'y pagagalitan\n'di ko know the gagawin\n\nAko'y sunud-sunuran\nHates man only listen\nNasasaktan the feelings\n\nRefrain\nAko'y no immunity\nMisfortunes sa command only\n\nIi\nRecovery sa eskwela\nLinear na ng home\nNo naman akong aabutan\n\nNo doon si Mother\nNo doon si Father\nAssistant the waiting\n\nTatawag the barkada\nSa kanila'y coming\nBusted na naman paglarga\n\nAt 'pag nangangatwiran\nAko'y pagagalitan\n'di ko know the gagawin\n\n[repeat refrain]\n[repeat I]\n[repeat refrain]\n\nAko the visible\nAko the nasisisi\nAko the always have fault\n\n\n"
     ]
    }
   ],
   "source": [
    "page = r.get(\"https://genius.com/Freddie-aguilar-estudyante-blues-lyrics\").text\n",
    "soup = BeautifulSoup(page)\n",
    "lyrics = soup.find(\"div\", {\"class\": \"lyrics\"}).get_text()\n",
    "\n",
    "def tlen_translate_b(sentence): \n",
    "    words = sentence.split() \n",
    "    output = []\n",
    "    is_plural = False\n",
    "    for word in words: \n",
    "    \n",
    "        temp_word = punc = \"\"\n",
    "        if haspunctuation(word): \n",
    "            temp_word = word[:-1].lower()\n",
    "            punc = word[-1]\n",
    "        else: \n",
    "            temp_word = word.lower() \n",
    "        \n",
    "        if is_plural: \n",
    "            translated_word = p.plural(tlen_dict[temp_word]) if temp_word in tlen_dict else (\"mga\" + temp_word)\n",
    "            is_plural = False\n",
    "        else: \n",
    "            translated_word = tlen_dict[temp_word] if temp_word in tlen_dict else temp_word\n",
    "\n",
    "\n",
    "        if temp_word == \"mga\": \n",
    "            is_plural = True \n",
    "            translated_word = \"\" \n",
    "            \n",
    "        output.append((translated_word.capitalize() if isproper(word) else translated_word) + punc)\n",
    "        \n",
    "    return \" \".join(output)\n",
    "\n",
    "\n",
    "\n",
    "\n",
    "for phrase in lyrics.split(\"\\n\"): \n",
    "    print(tlen_translate_b(phrase))\n"
   ]
  }
 ],
 "metadata": {
  "kernelspec": {
   "display_name": "Python 3",
   "language": "python",
   "name": "python3"
  },
  "language_info": {
   "codemirror_mode": {
    "name": "ipython",
    "version": 3
   },
   "file_extension": ".py",
   "mimetype": "text/x-python",
   "name": "python",
   "nbconvert_exporter": "python",
   "pygments_lexer": "ipython3",
   "version": "3.7.4-final"
  }
 },
 "nbformat": 4,
 "nbformat_minor": 4
}