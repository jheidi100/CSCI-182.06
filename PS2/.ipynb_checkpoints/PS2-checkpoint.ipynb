{
 "cells": [
  {
   "cell_type": "markdown",
   "metadata": {},
   "source": [
    "# Problem Set 2 CS174\n",
    "---\n",
    "The following problem set will focus on the lessons on Numpy and advanced Python functions. Answer the following guide questions by writing functions or code in cells that accomplish the requirements.\n",
    "\n",
    "1. Create a function that takes in 3 parameters (integer n, integer a, integer b), and generates an nxn numpy matrix with random values from the range a to b inclusive. **2 pts.**\n",
    "\n",
    "2. Present a count plot of the top 20 occurring words in **data/networks.txt**. Use the stopword file **data/stop.txt** to filter out the stopwords **2 pts.**\n",
    "\n",
    "3. Using **data/ateneo.txt** and **data/tl-en.txt**, convert the phrases into straight english phrases. Leave words with no translation be. **6 pts.**\n",
    "\n",
    "4. Using **data/tl-en.txt**, create a one-to-one English to Filipino translation of your favorite English song. Develop functions to handle pluralities, and multiple entry results. Discuss your code and please put at least 1-liner docs for the functions. **10 pts.**\n",
    "       \n",
    "### Bonus:\n",
    "Repeat #4 but do a Filipino to English translation of your favorite Filipno song. Same specs apply. **5 pts.**"
   ]
  },
  {
   "cell_type": "markdown",
   "metadata": {},
   "source": [
    "Deadline **Feb 20 11:59PM**. Submission link to be posted in Moodle. \n",
    "Submit the .ipynb file only with name <SURNAME>_<ID NUMBER>.ipynb. \n",
    "    \n",
    "Sample: **\"BAUTISTA_110464.ipynb\"**"
   ]
  },
  {
   "cell_type": "code",
   "execution_count": 1,
   "metadata": {},
   "outputs": [],
   "source": [
    "import numpy as np\n",
    "\n",
    "def matrix_gen(n, a, b): \n",
    "    return np.random.randint(a,b+1,size = (n,n))"
   ]
  },
  {
   "cell_type": "code",
   "execution_count": 2,
   "metadata": {},
   "outputs": [],
   "source": [
    "#https://stackoverflow.com/questions/58526984/how-to-create-numpy-array-with-values-in-specific-range "
   ]
  },
  {
   "cell_type": "code",
   "execution_count": 3,
   "metadata": {},
   "outputs": [],
   "source": [
    "def word_counter(word_count, word_list): \n",
    "    for word in word_list: \n",
    "        if word not in word_count.keys(): \n",
    "            word_count[word]=1\n",
    "        else: \n",
    "            word_count[word] += 1\n",
    "    return word_count"
   ]
  },
  {
   "cell_type": "code",
   "execution_count": 4,
   "metadata": {},
   "outputs": [
    {
     "data": {
      "text/plain": [
       "{'to': 55,\n",
       " 'network': 10,\n",
       " 'going': 7,\n",
       " 'file': 7,\n",
       " 'never': 6,\n",
       " 'time': 6,\n",
       " 'files': 6,\n",
       " 'also': 6,\n",
       " 'network.': 5,\n",
       " 'you': 5,\n",
       " 'networks,': 5,\n",
       " 'computers': 5,\n",
       " 'one': 5,\n",
       " 'system': 5,\n",
       " 'access': 5,\n",
       " 'saved': 5,\n",
       " 'costs': 4,\n",
       " 'however,': 4,\n",
       " 'companies': 4,\n",
       " 'using': 4}"
      ]
     },
     "execution_count": 4,
     "metadata": {},
     "output_type": "execute_result"
    }
   ],
   "source": [
    "from operator import itemgetter\n",
    "with open(\"networks.txt\",\"r\") as f: \n",
    "    networks_string = f.read()\n",
    "\n",
    "with open(\"stop.txt\",\"r\") as f: \n",
    "    stop_string = f.read()\n",
    "    \n",
    "networks_list = networks_string.lower().split()\n",
    "#tempnetworks_list = networks_list\n",
    "\n",
    "stop_list = [a.strip(\"\\\"',\") for a in stop_string.split(\"\\n\")]\n",
    "\n",
    "networks_list = [word for word in networks_list if word not in stop_list]\n",
    "\n",
    "networks_dict = dict()\n",
    "networks_dict = word_counter(networks_dict, networks_list)\n",
    "\n",
    "#https://www.geeksforgeeks.org/python-n-largest-values-in-dictionary/\n",
    "N = 20 \n",
    "networks_top20 = dict(sorted(networks_dict.items(), key = lambda x: x[1], reverse = True)[:N])\n",
    "networks_top20"
   ]
  },
  {
   "cell_type": "markdown",
   "metadata": {},
   "source": [
    "# PLOT NUM 2\n"
   ]
  },
  {
   "cell_type": "code",
   "execution_count": 5,
   "metadata": {},
   "outputs": [],
   "source": [
    "with open(\"ateneo.txt\", \"r\") as f: \n",
    "    ateneo_list = [phrase.strip('\"\"') for phrase in f.read().split(\"\\n\")]\n",
    "    \n",
    "with open(\"tl-en.txt\", \"r\", encoding = \"utf8\") as f: \n",
    "    tlen_list = f.read().split(\"\\n\")\n",
    "    \n",
    "tlen_dict = dict()\n",
    "\n",
    "for tlenpair in tlen_list: \n",
    "    tlenpair_list = tlenpair.split(\"\\t\")\n",
    "    tlen_dict[tlenpair_list[0]] = tlenpair_list[-1] #for some reason tlenpair_list[2] gives an error? :<\n",
    "\n"
   ]
  },
  {
   "cell_type": "code",
   "execution_count": 6,
   "metadata": {},
   "outputs": [],
   "source": [
    "punctuations = [\",\",\".\", \"?\"]\n",
    "\n",
    "def capitalize(s): \n",
    "    return s[0].upper() + s[1:]\n",
    "\n",
    "def isproper(s): \n",
    "    return s.capitalize() == s\n",
    "\n",
    "def haspunctuation(s): \n",
    "    return s[-1] in punctuations "
   ]
  },
  {
   "cell_type": "code",
   "execution_count": 7,
   "metadata": {},
   "outputs": [],
   "source": [
    "def translate(sentence): \n",
    "    words = sentence.split() \n",
    "    output = []\n",
    "    for word in words: \n",
    "        temp_word = punc = \"\"\n",
    "        if haspunctuation(word): \n",
    "            temp_word = word[:-1].lower()\n",
    "            punc = word[-1]\n",
    "        else: \n",
    "            temp_word = word.lower() \n",
    "        \n",
    "        translated_word = tlen_dict[temp_word] if temp_word in tlen_dict else temp_word\n",
    "        output.append((translated_word.capitalize() if isproper(word) else translated_word) + punc)\n",
    "        \n",
    "    return \" \".join(output)"
   ]
  },
  {
   "cell_type": "code",
   "execution_count": 8,
   "metadata": {},
   "outputs": [
    {
     "name": "stdout",
     "output_type": "stream",
     "text": [
      "Manong, para lang d'yan sa may side.\n",
      "Manong, to only d'yan sa have side.\n",
      "----------\n",
      "Mej hassle naman this rain.\n",
      "Mej hassle naman this rain.\n",
      "----------\n",
      "Ano, bro? Katip later? G?\n",
      "What, bro? Katip later? G?\n",
      "----------\n",
      "Wait, I'm like gonna dinner lang with the fambam.\n",
      "Wait, I'm like gonna dinner only with the fambam.\n",
      "----------\n",
      "Which car am I gonna take today kaya?\n",
      "Which car am I gonna take today so?\n",
      "----------\n",
      "Don't make tusok sa fishball muna, it's not lutong yet.\n",
      "Don't make stitch sa fishball first, it's not cuisine yet.\n",
      "----------\n",
      "Kuya magkano po yung neon balls?\n",
      "Brother much po yung neon balls?\n",
      "----------\n",
      "Pweds ka ba later?\n",
      "Pweds ka ba later?\n",
      "----------\n",
      "Ugh, there's no parking space pa. Eh, I'm late na nga.\n",
      "Ugh, there's no parking space pa. Eh, I'm late na nga.\n",
      "----------\n",
      "It's like, super intense talaga. As in grabe.\n",
      "It's like, super intense really. As in extreme.\n",
      "----------\n",
      "I'll make paalam pa. You know naman my dad is strict, eh.\n",
      "I'll make goodbye pa. You know naman my dad is strict, eh.\n",
      "----------\n",
      "You're, like, so tagal ha.\n",
      "You're, like, so duration ha.\n",
      "----------\n",
      "Make it fast lang ha?\n",
      "Make it fast only ha?\n",
      "----------\n",
      "What's wrong with being conyo ba?\n",
      "What's wrong with being conyo ba?\n",
      "----------\n"
     ]
    }
   ],
   "source": [
    "for phrase in ateneo_list: \n",
    "    print(phrase)\n",
    "    print(translate(phrase))\n",
    "    print(\"-\"*10)"
   ]
  },
  {
   "cell_type": "code",
   "execution_count": 9,
   "metadata": {},
   "outputs": [],
   "source": [
    "# for phrase in ateneo_list: \n",
    "#     trans_phrase = \"\"\n",
    "#     for word in phrase.split(): \n",
    "#         word = word.strip(\".?\\\",\")\n",
    "#         if word in tlen_dict.keys():\n",
    "#             word = tlen_dict[word]\n",
    "#         ateneo_list[ateneo_list.index(phase)].replace()\n",
    "#         #trans_phrase = trans_phrase + word + \" \"\n",
    "#     ateneo_list[ateneo_list.index(phrase)] = trans_phrase   \n",
    "\n",
    "# def tlen_translate(phrase_list, trans_dic): \n",
    "#     for phrase in phrase_list: \n",
    "#         for \n",
    "        \n",
    "\n",
    "# ateneo_list\n",
    "#MAKE A FUNCTION FOR THIS SO EASIER! THEN APPLY TO OTHER ITEMS "
   ]
  },
  {
   "cell_type": "code",
   "execution_count": 10,
   "metadata": {},
   "outputs": [],
   "source": [
    "#https://www.kite.com/python/answers/how-to-reverse-a-dictionary-in-python#:~:text=Use%20dict.,invert%20each%20key%2Dvalue%20pair.&text=Warning%3A%20Since%20each%20key%20in,hashable%20to%20reverse%20a%20dictionary.\n",
    "entl_dict = {value:key for (key, value) in tlen_dict.items()}"
   ]
  },
  {
   "cell_type": "code",
   "execution_count": 11,
   "metadata": {},
   "outputs": [],
   "source": [
    "# from lyricsgenius import Genius\n",
    "\n",
    "# genius = Genius(token)\n",
    "# genius.search_artist('Post Malone')\n",
    "# artist.save_lyrics()"
   ]
  },
  {
   "cell_type": "code",
   "execution_count": 13,
   "metadata": {},
   "outputs": [],
   "source": [
    "#https://pypi.org/project/lyricsgenius/ \n",
    "# import lyricsgenius as lg \n",
    "# genius = lg.Genius()\n",
    "# song = genius.search_song(\"Sunflower\") "
   ]
  },
  {
   "cell_type": "code",
   "execution_count": null,
   "metadata": {},
   "outputs": [],
   "source": []
  },
  {
   "cell_type": "code",
   "execution_count": null,
   "metadata": {},
   "outputs": [],
   "source": [
    "#https://pypi.org/project/inflect/\n",
    "# import inflect\n",
    "# p = inflect.engine()\n",
    "\n",
    "# def entl_pluralities(word): \n",
    "#     if p.compare(word, p.plural(word)) == \"s:p\": \n",
    "#         trans = entl_dict[word]\n",
    "#     else:\n",
    "#         trans = \"mga \" + entl_dict[p.plural(word)]      \n",
    "#     return trans\n",
    "        "
   ]
  },
  {
   "cell_type": "code",
   "execution_count": null,
   "metadata": {},
   "outputs": [],
   "source": [
    "# def tlen_pluralities(word): \n",
    "    "
   ]
  }
 ],
 "metadata": {
  "kernelspec": {
   "display_name": "Python 3",
   "language": "python",
   "name": "python3"
  },
  "language_info": {
   "codemirror_mode": {
    "name": "ipython",
    "version": 3
   },
   "file_extension": ".py",
   "mimetype": "text/x-python",
   "name": "python",
   "nbconvert_exporter": "python",
   "pygments_lexer": "ipython3",
   "version": "3.7.4"
  }
 },
 "nbformat": 4,
 "nbformat_minor": 4
}
