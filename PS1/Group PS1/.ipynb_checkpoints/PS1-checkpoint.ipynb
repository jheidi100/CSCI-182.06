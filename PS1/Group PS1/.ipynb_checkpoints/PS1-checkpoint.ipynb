{
 "cells": [
  {
   "cell_type": "markdown",
   "metadata": {
    "id": "bZeLN0YYhaTS"
   },
   "source": [
    "# Problem Set 1 CS174\n",
    "---\n",
    "The following problem set will focus on the lessons on Python and basic string manipulation. Answer the following guide questions by writing functions or code in cells that accomplish the requirements."
   ]
  },
  {
   "cell_type": "code",
   "execution_count": 12,
   "metadata": {
    "id": "bjGk7TDNhaTY"
   },
   "outputs": [],
   "source": [
    "from string import punctuation\n",
    "import matplotlib.pyplot as plt\n",
    "import requests\n",
    "from bs4 import BeautifulSoup"
   ]
  },
  {
   "cell_type": "markdown",
   "metadata": {
    "id": "WZmYlZxOhaTZ"
   },
   "source": [
    "1. Write a function to check whether a string is a palindrome. (A palindrome is a string that reads the same forwards and backwards) **1 pt.**"
   ]
  },
  {
   "cell_type": "code",
   "execution_count": 13,
   "metadata": {
    "id": "84p54SHwhaTa"
   },
   "outputs": [],
   "source": [
    "def is_palindrome(string):\n",
    "    string = [c for c in string.lower() if c.isalnum()]\n",
    "    for i in range(len(string)//2):\n",
    "        if string[i] != string[~i]:\n",
    "            return False\n",
    "    return True"
   ]
  },
  {
   "cell_type": "code",
   "execution_count": 14,
   "metadata": {
    "colab": {
     "base_uri": "https://localhost:8080/"
    },
    "id": "wPzGtzvQhaTa",
    "outputId": "d840219f-0274-4a25-f8ad-e7cbf2dc1c6a"
   },
   "outputs": [
    {
     "data": {
      "text/plain": [
       "True"
      ]
     },
     "execution_count": 14,
     "metadata": {},
     "output_type": "execute_result"
    }
   ],
   "source": [
    "is_palindrome(\"Was it a car or a cat I saw?\")"
   ]
  },
  {
   "cell_type": "code",
   "execution_count": 15,
   "metadata": {
    "colab": {
     "base_uri": "https://localhost:8080/"
    },
    "id": "LYlRVxfjhaTb",
    "outputId": "db6d66c4-e6f7-4c03-8ed8-fd2c947b0e33"
   },
   "outputs": [
    {
     "data": {
      "text/plain": [
       "False"
      ]
     },
     "execution_count": 15,
     "metadata": {},
     "output_type": "execute_result"
    }
   ],
   "source": [
    "is_palindrome(\"something\")"
   ]
  },
  {
   "cell_type": "markdown",
   "metadata": {
    "id": "l7MCe6pthaTc"
   },
   "source": [
    "2. Write a function that checks whether a number is prime or not **1 pt.**"
   ]
  },
  {
   "cell_type": "code",
   "execution_count": 16,
   "metadata": {
    "id": "JWmwtCLRhaTc"
   },
   "outputs": [],
   "source": [
    "def is_prime(n):\n",
    "    if n > 1:\n",
    "        for i in range(2,n): \n",
    "            if n%i == 0:\n",
    "                return(False)\n",
    "        return(True)\n",
    "    else: \n",
    "        return(False)"
   ]
  },
  {
   "cell_type": "code",
   "execution_count": 17,
   "metadata": {
    "colab": {
     "base_uri": "https://localhost:8080/"
    },
    "id": "JfQgYc1ThaTc",
    "outputId": "69569b6f-4033-451a-fe48-6f2f77739317"
   },
   "outputs": [
    {
     "data": {
      "text/plain": [
       "True"
      ]
     },
     "execution_count": 17,
     "metadata": {},
     "output_type": "execute_result"
    }
   ],
   "source": [
    "is_prime(9941)"
   ]
  },
  {
   "cell_type": "code",
   "execution_count": 18,
   "metadata": {
    "colab": {
     "base_uri": "https://localhost:8080/"
    },
    "id": "7HOm7AwnhaTd",
    "outputId": "031e22a1-d61e-4f1d-b9f1-6eddc3ea9925"
   },
   "outputs": [
    {
     "data": {
      "text/plain": [
       "False"
      ]
     },
     "execution_count": 18,
     "metadata": {},
     "output_type": "execute_result"
    }
   ],
   "source": [
    "is_prime(42)"
   ]
  },
  {
   "cell_type": "markdown",
   "metadata": {
    "id": "ICjlY6UvhaTd"
   },
   "source": [
    "3. Load `data/allstar.txt` and create a dictionary where the keys are the verses or chorus numbers, and the values are the chords for that part of the song. **4 pts.**\n",
    "`{ \"verse1\": \"Am, C, D, G, F, G, G, Bm\", \"chorus1\": \"C, Am, G, D, C, Am, G, D, C\"..}`"
   ]
  },
  {
   "cell_type": "code",
   "execution_count": 19,
   "metadata": {
    "id": "6vxr_KLVhaTd"
   },
   "outputs": [],
   "source": [
    "file = \"allstar.txt\"\n",
    "\n",
    "with open(file, \"r+\") as f:\n",
    "    allstar_text = [line.strip() for line in f]\n",
    "    allstar_text = [line for line in allstar_text if line != \"\"]\n",
    "\n",
    "section_slices = {\n",
    "    \"verse1\": slice(0, 25),\n",
    "    \"chorus1\": slice(25, 34),\n",
    "    \"verse2\": slice(34, 51),\n",
    "    \"chorus2\": slice(51, 68),\n",
    "    \"verse3\": slice(68, 93),\n",
    "    \"chorus3\": slice(93, 103),\n",
    "}\n",
    "\n",
    "section_chords = {}\n",
    "allstar_lyrics = \"\"\n",
    "for section, slice_ in section_slices.items():\n",
    "    section_text = allstar_text[slice_]\n",
    "    \n",
    "    # Get chords\n",
    "    chords = section_text[1::2]\n",
    "    chords = \", \".join([\", \".join(c.split()) for c in chords])\n",
    "    section_chords[section] = chords\n",
    "    \n",
    "    # Get lyrics\n",
    "    section_lyrics = \"\\n\".join(section_text[2::2])\n",
    "    allstar_lyrics += \"\\n\" + section_lyrics"
   ]
  },
  {
   "cell_type": "code",
   "execution_count": 20,
   "metadata": {
    "colab": {
     "base_uri": "https://localhost:8080/"
    },
    "id": "H70S89ZUhaTd",
    "outputId": "432a3fb6-9c08-4b5d-b5cb-aaa7cf7a10a9"
   },
   "outputs": [
    {
     "data": {
      "text/plain": [
       "{'verse1': 'G, D, Am, C, G, D, Am, C, G, D, Am, C, G, D, Am, C, G, D, Am, C, G, D, Am, C, G, D, Am, C, G, D, Am, C',\n",
       " 'chorus1': 'G, C, C#m, C, G, C, C#m, C, G, C, C#m, C, G, F, C',\n",
       " 'verse2': 'G, D, Am, C, G, D, Am, C, G, D, Am, C, G, D, Am, C',\n",
       " 'chorus2': 'G, C, C#m, C, G, C, C#m, C, G, C, C#m, C, G, F, C, G, C, C#m, C, G, C, C#m, C, G, C, C#m, C, G, F, C',\n",
       " 'verse3': 'G, D, Am, C, G, D, Am, C, G, D, Am, C, G, D, Am, C, G, D, Am, C, G, D, Am, C, G, D, Am, C, G, D, Am, C',\n",
       " 'chorus3': 'G, C, C#m, C, G, C, C#m, C, G, C, C#m, C, G, F, C'}"
      ]
     },
     "execution_count": 20,
     "metadata": {},
     "output_type": "execute_result"
    }
   ],
   "source": [
    "section_chords"
   ]
  },
  {
   "cell_type": "code",
   "execution_count": 21,
   "metadata": {
    "colab": {
     "base_uri": "https://localhost:8080/"
    },
    "id": "VQxfRbALhaTe",
    "outputId": "ead2bcfb-5eae-49bd-b70a-42e60a30a319"
   },
   "outputs": [
    {
     "name": "stdout",
     "output_type": "stream",
     "text": [
      "\n",
      "Somebody once told me the world is gonna roll me\n",
      "I ain't the sharpest tool in the shed\n",
      "She was looking kinda dumb with her finger and her\n",
      "Thumb in the shape of an \"L\" on her forehead\n",
      "Well the years start coming and they don't stop coming\n",
      "Back to the rules and I hit the ground running\n",
      "Didn't make sense not to live for fun\n",
      "Your brain gets smart but your head gets dumb\n",
      "So much to do so much to see\n",
      "So what's wrong with taking the back streets\n",
      "You'll never know if you don't go\n",
      "You'll never shine if you don't glow\n",
      "Hey now you're an All Star get your game on, go play\n",
      "Hey now you're a Rock Star get the show on get paid\n",
      "And all that glitters is gold\n",
      "Only shooting stars break the mold\n",
      "It's a cool place and they say it gets colder\n",
      "You're bundled up now but wait 'til you get older\n",
      "But the media men beg to differ\n",
      "Judging by the hole in the satellite picture\n",
      "The ice we skate is getting pretty thin\n",
      "The waters getting warm so you might as well swim\n",
      "My world's on fire how about yours\n",
      "That's the way I like it and I never get bored\n",
      "Hey now you're an All Star get your game on, go play\n",
      "Hey now you're a Rock Star get the show on get paid\n",
      "And all that glitters is gold\n",
      "Only shooting stars break the mold\n",
      "Hey now you're an All Star get your game on, go play\n",
      "Hey now you're a Rock Star get the show on get paid\n",
      "And all that glitters is gold\n",
      "Only shooting stars break the mold\n",
      "Somebody once asked, could you spare some change for gas\n",
      "I need to get myself away from this place\n",
      "I said yep what a concept I could use a little fuel myself\n",
      "And we could all use a little change\n",
      "Well the years start coming and they don't stop coming\n",
      "Back to the rules and I hit the ground running\n",
      "Didn't make sense not to live for fun\n",
      "Your brain gets smart but your head gets dumb\n",
      "So much to do so much to see\n",
      "So what's wrong with taking the back streets\n",
      "You'll never know if you don't go\n",
      "You'll never shine if you don't glow\n",
      "Hey now you're an All Star get your game on, go play\n",
      "Hey now you're a Rock Star get the show on get paid\n",
      "And all that glitters is gold\n",
      "Only shooting stars break the mold\n"
     ]
    }
   ],
   "source": [
    "print(allstar_lyrics)"
   ]
  },
  {
   "cell_type": "markdown",
   "metadata": {
    "id": "-ThmCBI3haTe"
   },
   "source": [
    "4. Build a dictionary from `data/allstar.txt` where the keys are the unique words, and the values are the number of times the word appeared in the song. **4 pts.**"
   ]
  },
  {
   "cell_type": "code",
   "execution_count": 22,
   "metadata": {
    "colab": {
     "base_uri": "https://localhost:8080/"
    },
    "id": "49SGW3HohaTe",
    "outputId": "c3da485a-6b17-4931-8a62-e728803fb7be"
   },
   "outputs": [
    {
     "name": "stdout",
     "output_type": "stream",
     "text": [
      "Pretty printing has been turned OFF\n"
     ]
    }
   ],
   "source": [
    "%pprint"
   ]
  },
  {
   "cell_type": "code",
   "execution_count": 23,
   "metadata": {
    "colab": {
     "base_uri": "https://localhost:8080/"
    },
    "id": "MwX22oE7jM_m",
    "outputId": "79687d13-3797-482a-ae77-8bf1585e199f"
   },
   "outputs": [
    {
     "name": "stdout",
     "output_type": "stream",
     "text": [
      "{'somebody': 2, 'once': 2, 'told': 1, 'me': 2, 'the': 26, 'world': 1, 'is': 6, 'gonna': 1, 'roll': 1, 'i': 8, \"ain't\": 1, 'sharpest': 1, 'tool': 1, 'in': 3, 'shed': 1, 'she': 1, 'was': 1, 'looking': 1, 'kinda': 1, 'dumb': 3, 'with': 3, 'her': 3, 'finger': 1, 'and': 12, 'thumb': 1, 'shape': 1, 'of': 1, 'an': 5, '\"l\"': 1, 'on': 6, 'forehead': 1, 'well': 3, 'years': 2, 'start': 2, 'coming': 4, 'they': 3, \"don't\": 6, 'stop': 2, 'back': 4, 'to': 10, 'rules': 2, 'hit': 2, 'ground': 2, 'running': 2, \"didn't\": 2, 'make': 2, 'sense': 2, 'not': 2, 'live': 2, 'for': 3, 'fun': 2, 'your': 8, 'brain': 2, 'gets': 5, 'smart': 2, 'but': 4, 'head': 2, 'so': 7, 'much': 4, 'do': 2, 'see': 2, \"what's\": 2, 'wrong': 2, 'taking': 2, 'streets': 2, \"you'll\": 4, 'never': 5, 'know': 2, 'if': 4, 'you': 7, 'go': 6, 'shine': 2, 'glow': 2, 'hey': 8, 'now': 9, \"you're\": 9, 'all': 9, 'star': 8, 'get': 15, 'game': 4, 'on,': 4, 'play': 4, 'a': 8, 'rock': 4, 'show': 4, 'paid': 4, 'that': 4, 'glitters': 4, 'gold': 4, 'only': 4, 'shooting': 4, 'stars': 4, 'break': 4, 'mold': 4, \"it's\": 1, 'cool': 1, 'place': 2, 'say': 1, 'it': 2, 'colder': 1, 'bundled': 1, 'up': 1, 'wait': 1, \"'til\": 1, 'older': 1, 'media': 1, 'men': 1, 'beg': 1, 'differ': 1, 'judging': 1, 'by': 1, 'hole': 1, 'satellite': 1, 'picture': 1, 'ice': 1, 'we': 2, 'skate': 1, 'getting': 2, 'pretty': 1, 'thin': 1, 'waters': 1, 'warm': 1, 'might': 1, 'as': 1, 'swim': 1, 'my': 1, \"world's\": 1, 'fire': 1, 'how': 1, 'about': 1, 'yours': 1, \"that's\": 1, 'way': 1, 'like': 1, 'bored': 1, 'asked,': 1, 'could': 3, 'spare': 1, 'some': 1, 'change': 2, 'gas': 1, 'need': 1, 'myself': 2, 'away': 1, 'from': 1, 'this': 1, 'said': 1, 'yep': 1, 'what': 1, 'concept': 1, 'use': 2, 'little': 2, 'fuel': 1}\n"
     ]
    }
   ],
   "source": [
    "word_count = {}\n",
    "\n",
    "for word in allstar_lyrics.lower().split(): \n",
    "    if word not in word_count.keys(): \n",
    "        word_count[word]=1\n",
    "    else: \n",
    "        word_count[word] += 1\n",
    "\n",
    "print(word_count)"
   ]
  },
  {
   "cell_type": "markdown",
   "metadata": {
    "id": "2jYOHJ7HhaTf"
   },
   "source": [
    "5. Load `Rick Astley - Never Gonna Give You Up Lyrics _ AZLyrics.com.html` and find out the ff (show the code): **10 pts.**"
   ]
  },
  {
   "cell_type": "code",
   "execution_count": 24,
   "metadata": {
    "id": "89Za6qEmhaTf"
   },
   "outputs": [
    {
     "ename": "FileNotFoundError",
     "evalue": "[Errno 2] No such file or directory: 'data/Rick Astley - Never Gonna Give You Up Lyrics _ AZLyrics.com.html'",
     "output_type": "error",
     "traceback": [
      "\u001b[1;31m---------------------------------------------------------------------------\u001b[0m",
      "\u001b[1;31mFileNotFoundError\u001b[0m                         Traceback (most recent call last)",
      "\u001b[1;32m<ipython-input-24-4dab38362a2c>\u001b[0m in \u001b[0;36m<module>\u001b[1;34m\u001b[0m\n\u001b[0;32m      1\u001b[0m \u001b[1;32mfrom\u001b[0m \u001b[0mbs4\u001b[0m \u001b[1;32mimport\u001b[0m \u001b[0mBeautifulSoup\u001b[0m\u001b[1;33m\u001b[0m\u001b[1;33m\u001b[0m\u001b[0m\n\u001b[0;32m      2\u001b[0m \u001b[0mfile\u001b[0m \u001b[1;33m=\u001b[0m \u001b[1;34m'data/Rick Astley - Never Gonna Give You Up Lyrics _ AZLyrics.com.html'\u001b[0m\u001b[1;33m\u001b[0m\u001b[1;33m\u001b[0m\u001b[0m\n\u001b[1;32m----> 3\u001b[1;33m \u001b[0msoup\u001b[0m \u001b[1;33m=\u001b[0m \u001b[0mBeautifulSoup\u001b[0m\u001b[1;33m(\u001b[0m\u001b[0mopen\u001b[0m\u001b[1;33m(\u001b[0m\u001b[0mfile\u001b[0m\u001b[1;33m)\u001b[0m\u001b[1;33m)\u001b[0m\u001b[1;33m\u001b[0m\u001b[1;33m\u001b[0m\u001b[0m\n\u001b[0m",
      "\u001b[1;31mFileNotFoundError\u001b[0m: [Errno 2] No such file or directory: 'data/Rick Astley - Never Gonna Give You Up Lyrics _ AZLyrics.com.html'"
     ]
    }
   ],
   "source": [
    "from bs4 import BeautifulSoup\n",
    "file = 'data/Rick Astley - Never Gonna Give You Up Lyrics _ AZLyrics.com.html'\n",
    "soup = BeautifulSoup(open(file))"
   ]
  },
  {
   "cell_type": "code",
   "execution_count": null,
   "metadata": {
    "colab": {
     "base_uri": "https://localhost:8080/"
    },
    "id": "-hL8OfRthaTf",
    "outputId": "269af8eb-8180-4806-b61b-32ddf0d1e79f"
   },
   "outputs": [],
   "source": [
    "parent_div = soup.find('div', {\"class\": 'col-xs-12 col-lg-8 text-center'})\n",
    "lyrics_div = parent_div.find('div', {\"class\": None})\n",
    "lyrics = lyrics_div.get_text()\n",
    "print(lyrics)"
   ]
  },
  {
   "cell_type": "markdown",
   "metadata": {
    "id": "iFk2qQXMhaTg"
   },
   "source": [
    "- How many unique words are there?"
   ]
  },
  {
   "cell_type": "code",
   "execution_count": null,
   "metadata": {
    "colab": {
     "base_uri": "https://localhost:8080/"
    },
    "id": "w54gjSGdhaTg",
    "outputId": "86bf23cc-7ede-4cac-d2ff-905c82f8d6f2"
   },
   "outputs": [],
   "source": [
    "words = [w.strip(\"(),\").lower() for w in lyrics.split()]\n",
    "len(set(words))"
   ]
  },
  {
   "cell_type": "markdown",
   "metadata": {
    "id": "TFGDSAkehaTg"
   },
   "source": [
    "- List what will Rick Astley never do?"
   ]
  },
  {
   "cell_type": "code",
   "execution_count": null,
   "metadata": {
    "colab": {
     "base_uri": "https://localhost:8080/"
    },
    "id": "XKlkVMwwhaTg",
    "outputId": "e62a93f4-83a7-416f-e792-7b88027297de"
   },
   "outputs": [],
   "source": [
    "%pprint"
   ]
  },
  {
   "cell_type": "code",
   "execution_count": null,
   "metadata": {
    "colab": {
     "base_uri": "https://localhost:8080/"
    },
    "id": "QvcOoR8ghaTg",
    "outputId": "42983d99-22df-45a3-997a-00bb932c371a"
   },
   "outputs": [],
   "source": [
    "never_do_list = [line for line in lyrics.split(\"\\n\") if line.startswith(\"Never gonna \")]\n",
    "never_do = list(set(never_do_list))\n",
    "never_do"
   ]
  },
  {
   "cell_type": "code",
   "execution_count": null,
   "metadata": {
    "colab": {
     "base_uri": "https://localhost:8080/"
    },
    "id": "v_Yq-ZYDhaTh",
    "outputId": "20fa8da1-8dad-401c-f226-258317924a50"
   },
   "outputs": [],
   "source": [
    "%pprint"
   ]
  },
  {
   "cell_type": "markdown",
   "metadata": {
    "id": "Px4naK6ihaTh"
   },
   "source": [
    "- Write a function that lists all the unique words and counts the num of occurences. Output the result as a dictionary similar to **Item 4.**"
   ]
  },
  {
   "cell_type": "code",
   "execution_count": null,
   "metadata": {
    "id": "N6tB4yPHhaTh"
   },
   "outputs": [],
   "source": [
    "def get_word_frequencies(text):\n",
    "    # Remove headers and strip punctuation\n",
    "    words = [w for w in text.split() if not (w.startswith(\"[\") or w.endswith(\"]\"))]\n",
    "    words = [w.strip(punctuation).lower() for w in words]\n",
    "    word_freq = {}\n",
    "    for word in words:\n",
    "        word_freq[word] = word_freq.get(word, 0) + 1\n",
    "    return word_freq"
   ]
  },
  {
   "cell_type": "code",
   "execution_count": null,
   "metadata": {
    "colab": {
     "base_uri": "https://localhost:8080/"
    },
    "id": "LRFKFW5XhaTh",
    "outputId": "f99e9e46-0063-4dfb-d280-07368bf6a7cd"
   },
   "outputs": [],
   "source": [
    "get_word_frequencies(lyrics)"
   ]
  },
  {
   "cell_type": "markdown",
   "metadata": {
    "id": "IKheRjzxhaTh"
   },
   "source": [
    "- Use the dictionary from above to create a word count histogram."
   ]
  },
  {
   "cell_type": "code",
   "execution_count": null,
   "metadata": {
    "colab": {
     "base_uri": "https://localhost:8080/",
     "height": 441
    },
    "id": "N8utePLghaTi",
    "outputId": "c1568a2b-f697-481d-f0e0-6e04b573caa3"
   },
   "outputs": [],
   "source": [
    "%matplotlib inline\n",
    "import matplotlib.pyplot as plt\n",
    "\n",
    "rick_astley_word_freq = get_word_frequencies(lyrics)\n",
    "fig, ax = plt.subplots(figsize=(8, 6))\n",
    "plt.hist(rick_astley_word_freq.values(), bins=30)\n",
    "plt.title(\"Word Frequency\")\n",
    "plt.tight_layout()\n",
    "plt.show()"
   ]
  },
  {
   "cell_type": "code",
   "execution_count": null,
   "metadata": {
    "colab": {
     "base_uri": "https://localhost:8080/",
     "height": 1000
    },
    "id": "PFZPitQHhaTi",
    "outputId": "bba6d737-dc60-42be-9fde-56c6ae33bd27"
   },
   "outputs": [],
   "source": [
    "rick_astley_word_freq = get_word_frequencies(lyrics)\n",
    "rick_astley_word_freq = {k: v for k, v in sorted(rick_astley_word_freq.items(), key=lambda x: x[1])}\n",
    "plt.style.use('fivethirtyeight')\n",
    "plt.figure(figsize=(20,30))\n",
    "plt.barh(list(rick_astley_word_freq.keys()), rick_astley_word_freq.values(), color='g')\n",
    "plt.title(\"Word Frequency\")\n",
    "plt.tight_layout()\n",
    "plt.show()"
   ]
  },
  {
   "cell_type": "markdown",
   "metadata": {
    "id": "f9oKbzpfhaTi"
   },
   "source": [
    "### Bonus:\n",
    "Compare any non-English song (as long as lyrics are Romanized ) and a contemporary one in English, and create word frequency histograms of both. Compare and discuss any interesting findings or insights. **5 pts.**"
   ]
  },
  {
   "cell_type": "markdown",
   "metadata": {
    "id": "pO5hv0v2haTi"
   },
   "source": [
    "Deadline **Feb 25 11:59PM**. Submission link to be posted in Moodle. \n",
    "Submit the .ipynb file only with name <SURNAME>_<ID NUMBER>.ipynb. \n",
    "    \n",
    "Sample: **\"BAUTISTA_110464.ipynb\"**"
   ]
  },
  {
   "cell_type": "code",
   "execution_count": null,
   "metadata": {
    "id": "hlpOZD0OiNaP"
   },
   "outputs": [],
   "source": [
    "from nltk.tokenize import word_tokenize\n",
    "import nltk\n",
    "nltk.download(\"punkt\")"
   ]
  },
  {
   "cell_type": "code",
   "execution_count": null,
   "metadata": {
    "id": "38dE0zWILK0F"
   },
   "outputs": [],
   "source": [
    "f_freq = nltk.FreqDist(french).most_common(1000) #https://stackoverflow.com/questions/49939450/unique-word-frequency-using-nltk\n",
    "a_freq = nltk.FreqDist(american).most_common(1000) #https://stackoverflow.com/questions/23042699/freqdist-in-nltk-not-sorting-output/27464892#27464892\n",
    "\n",
    "#https://stackoverflow.com/questions/4206979/sum-up-the-number-of-words-frequency-using-freqdist-python\n",
    "f_words = [freq[0] for freq in [tup for tup in f_freq]]\n",
    "a_words = [freq[0] for freq in [tup for tup in a_freq]]\n",
    "\n",
    "f_v = [freq[1] for freq in [tup for tup in f_freq]]\n",
    "a_v = [freq[1] for freq in [tup for tup in a_freq]]\n",
    "\n",
    "a_words"
   ]
  },
  {
   "cell_type": "code",
   "execution_count": null,
   "metadata": {
    "id": "U1c1ahjBLMbq"
   },
   "outputs": [],
   "source": [
    "def get_words(song):\n",
    "  words = []\n",
    "  lyrics = [line.replace(\"\\n\", \"\") for line in open(song).readlines()]\n",
    "\n",
    "  for l in lyrics:\n",
    "    for w in word_tokenize(l):\n",
    "      for char in w:\n",
    "        if str(char).isalnum():  #https://www.w3schools.com/python/ref_string_isalnum.asp\n",
    "          words.append(w)\n",
    "          break\n",
    "      \n",
    "\n",
    "\n",
    "\n",
    "  return words\n",
    "\n",
    "french = get_words(\"Bondéjà\")\n",
    "american = get_words(\"Tupac.txt\")"
   ]
  },
  {
   "cell_type": "code",
   "execution_count": null,
   "metadata": {
    "id": "KDYvvsPPLPiy"
   },
   "outputs": [],
   "source": [
    "print(\"No. of words in French song:\", len(french))\n",
    "print(\"No. of words in American song:\", len(american))"
   ]
  },
  {
   "cell_type": "code",
   "execution_count": null,
   "metadata": {
    "id": "XejWAHHMLQpn"
   },
   "outputs": [],
   "source": [
    "import matplotlib.pyplot as plt\n",
    "plt.barh(f_words, f_v) #https://pythonspot.com/matplotlib-bar-chart/\n",
    "\n",
    "#https://stackoverflow.com/questions/332289/how-do-you-change-the-size-of-figures-drawn-with-matplotlib\n",
    "import matplotlib\n",
    "fig = matplotlib.pyplot.gcf()\n",
    "fig.set_size_inches(50, 50)\n",
    "\n",
    "plt.show()"
   ]
  },
  {
   "cell_type": "code",
   "execution_count": null,
   "metadata": {
    "id": "I0yJxButLSIm"
   },
   "outputs": [],
   "source": [
    "plt.barh(a_words, a_v) #https://pythonspot.com/matplotlib-bar-chart/\n",
    "\n",
    "\n",
    "fig = matplotlib.pyplot.gcf()\n",
    "fig.set_size_inches(50, 50)\n",
    "\n",
    "plt.show()"
   ]
  },
  {
   "cell_type": "code",
   "execution_count": null,
   "metadata": {
    "id": "9qUovEmdLUKu"
   },
   "outputs": [],
   "source": [
    "ANALYSIS\n",
    "\n",
    "Despite both songs being of different languages, a similar distribution of words is noted (the histogram shows low frequency words before suddenly spiking with the high frequency words)\n",
    "Both songs employ bastardized or non-standard orthography in their words ('em instead of them, livin instead of living, j'reviens instead of je reviens)\n",
    "Articles and pronouns are the most frequent words in both songs\n",
    "NLTK does not tokenize French words probably (most contractions are retained and not split"
   ]
  }
 ],
 "metadata": {
  "colab": {
   "collapsed_sections": [],
   "name": "PS1.ipynb",
   "provenance": [],
   "toc_visible": true
  },
  "kernelspec": {
   "display_name": "Python 3",
   "language": "python",
   "name": "python3"
  },
  "language_info": {
   "codemirror_mode": {
    "name": "ipython",
    "version": 3
   },
   "file_extension": ".py",
   "mimetype": "text/x-python",
   "name": "python",
   "nbconvert_exporter": "python",
   "pygments_lexer": "ipython3",
   "version": "3.7.4"
  }
 },
 "nbformat": 4,
 "nbformat_minor": 1
}
